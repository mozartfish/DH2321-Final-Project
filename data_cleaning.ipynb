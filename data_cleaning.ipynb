{
 "cells": [
  {
   "cell_type": "code",
   "execution_count": 16,
   "metadata": {},
   "outputs": [],
   "source": [
    "import os\n",
    "import pandas as pd\n",
    "\n",
    "dir0 = 'data0/'\n",
    "dir1 = 'data1/'\n",
    "\n",
    "def rename_columns(dir0, dir1):\n",
    "    for file in os.listdir(dir0):\n",
    "        if file.endswith('.csv'):\n",
    "            df = pd.read_csv(dir0 + file)\n",
    "            if file == 'policies.csv':\n",
    "                df.to_json('json_files/' + file.replace('.csv', '.json'), orient='records')\n",
    "                continue\n",
    "\n",
    "            df.columns = df.columns.str.lower()\n",
    "            df.rename(columns={'geo': 'country', 'time_period': 'year', 'obs_value': 'value'}, inplace=True)\n",
    "            df.drop(columns=['dataflow', 'last update', 'freq', 'obs_flag', 'conf_status'], inplace=True, errors='ignore')\n",
    "            \n",
    "            if 'unit' in df.columns:\n",
    "                pivot_index = ['country', 'unit']\n",
    "                main_columns = ['indicator', 'country', 'unit']\n",
    "            else:\n",
    "                pivot_index = ['country']\n",
    "                main_columns = ['indicator', 'country']\n",
    "                \n",
    "            df_wide = df.pivot_table(index=pivot_index, columns='year', values='value', aggfunc='first').reset_index()\n",
    "\n",
    "            df_wide['indicator'] = file.replace('.csv', '')\n",
    "            \n",
    "            year_columns = sorted([col for col in df_wide.columns if col not in main_columns])\n",
    "            df_wide = df_wide[main_columns + year_columns]\n",
    "            \n",
    "            df_wide.to_csv(dir1 + file, index=False)\n",
    "            df_wide.to_json('json_files/' + file.replace('.csv', '.json'), orient='records')\n",
    "\n",
    "rename_columns(dir0, dir1)"
   ]
  }
 ],
 "metadata": {
  "kernelspec": {
   "display_name": ".venv",
   "language": "python",
   "name": "python3"
  },
  "language_info": {
   "codemirror_mode": {
    "name": "ipython",
    "version": 3
   },
   "file_extension": ".py",
   "mimetype": "text/x-python",
   "name": "python",
   "nbconvert_exporter": "python",
   "pygments_lexer": "ipython3",
   "version": "3.13.1"
  }
 },
 "nbformat": 4,
 "nbformat_minor": 2
}
